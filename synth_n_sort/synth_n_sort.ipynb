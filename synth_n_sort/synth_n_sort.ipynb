{
 "cells": [
  {
   "cell_type": "code",
   "execution_count": null,
   "metadata": {},
   "outputs": [],
   "source": [
    "import sys\n",
    "sys.path.append('..')\n",
    "\n",
    "from mountainsort4_v1 import sort_dataset\n",
    "dsdir='./dataset/'\n",
    "outdir = './output/'\n",
    "sort_dataset(dataset_dir=dsdir,output_dir=outdir,adjacency_radius=-1,detect_threshold=3,opts={'verbose':'minimal'})"
   ]
  },
  {
   "cell_type": "code",
   "execution_count": null,
   "metadata": {},
   "outputs": [],
   "source": [
    "import json"
   ]
  },
  {
   "cell_type": "code",
   "execution_count": null,
   "metadata": {},
   "outputs": [],
   "source": [
    "with open('output/cluster_metrics.json') as f:\n",
    "    cluster_metrics=json.load(f)\n",
    "clusters=cluster_metrics['clusters']\n",
    "for j in range(len(clusters)):\n",
    "    C=clusters[j]\n",
    "    print('Cluster {}'.format(C['label']))\n",
    "    print(C['metrics'])\n",
    "    print('')"
   ]
  }
 ],
 "metadata": {
  "kernelspec": {
   "display_name": "Python [default]",
   "language": "python",
   "name": "python3"
  },
  "language_info": {
   "codemirror_mode": {
    "name": "ipython",
    "version": 3
   },
   "file_extension": ".py",
   "mimetype": "text/x-python",
   "name": "python",
   "nbconvert_exporter": "python",
   "pygments_lexer": "ipython3",
   "version": "3.6.6"
  }
 },
 "nbformat": 4,
 "nbformat_minor": 2
}
